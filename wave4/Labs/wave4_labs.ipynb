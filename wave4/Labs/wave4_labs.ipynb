{
 "metadata": {
  "language_info": {
   "codemirror_mode": {
    "name": "ipython",
    "version": 3
   },
   "file_extension": ".py",
   "mimetype": "text/x-python",
   "name": "python",
   "nbconvert_exporter": "python",
   "pygments_lexer": "ipython3",
   "version": "3.7.6-final"
  },
  "orig_nbformat": 2,
  "kernelspec": {
   "name": "python_defaultSpec_1597562918772",
   "display_name": "Python 3.7.6 64-bit ('base': conda)"
  }
 },
 "nbformat": 4,
 "nbformat_minor": 2,
 "cells": [
  {
   "cell_type": "markdown",
   "metadata": {},
   "source": [
    "# Functions"
   ]
  },
  {
   "cell_type": "markdown",
   "metadata": {},
   "source": [
    "## Lab 1.   Population Density"
   ]
  },
  {
   "cell_type": "code",
   "execution_count": 26,
   "metadata": {
    "tags": []
   },
   "outputs": [
    {
     "output_type": "stream",
     "name": "stdout",
     "text": "expected result: 10, actual result: 10.0\nexpected result: 7123.6902801, actual result: 7123.690280065897\n"
    }
   ],
   "source": [
    "# write your function here\n",
    "\n",
    "\n",
    "def population_density(val1: float, val2: float)-> float:\n",
    "    return val1/val2\n",
    "\n",
    "# test cases for your function\n",
    "test1 = population_density(10, 1)\n",
    "expected_result1 = 10\n",
    "print(\"expected result: {}, actual result: {}\".format(expected_result1, test1))\n",
    "\n",
    "test2 = population_density(864816, 121.4)\n",
    "expected_result2 = 7123.6902801\n",
    "print(\"expected result: {}, actual result: {}\".format(expected_result2, test2))"
   ]
  },
  {
   "cell_type": "markdown",
   "metadata": {},
   "source": [
    "## Lab 2. Student"
   ]
  },
  {
   "cell_type": "code",
   "execution_count": 27,
   "metadata": {
    "tags": []
   },
   "outputs": [
    {
     "output_type": "stream",
     "name": "stdout",
     "text": "1 week(s) and 3 day(s)\n"
    }
   ],
   "source": [
    "def readable_timedelta(days: int)-> str:\n",
    "    week = days//7\n",
    "    day = days - week * 7\n",
    "\n",
    "    return f\"{week} week(s) and {day} day(s)\"\n",
    "\n",
    "print(readable_timedelta(10))"
   ]
  },
  {
   "cell_type": "markdown",
   "metadata": {},
   "source": [
    "## Lab 3.   Docstrings"
   ]
  },
  {
   "cell_type": "code",
   "execution_count": 28,
   "metadata": {},
   "outputs": [],
   "source": [
    "def readable_timedelta(days: int)-> str:\n",
    "    \"\"\" function to convert ints to date format\n",
    "\n",
    "    Args:\n",
    "        days (int): number to convert\n",
    "\n",
    "    Returns:\n",
    "        str: converted data in a sentence\n",
    "    \"\"\"\n",
    "    weeks = days // 7\n",
    "    remainder = days % 7\n",
    "    return \"{} week(s) and {} day(s)\".format(weeks, remainder)"
   ]
  },
  {
   "cell_type": "markdown",
   "metadata": {},
   "source": [
    "## Lab 4. Lambda Map"
   ]
  },
  {
   "cell_type": "code",
   "execution_count": 2,
   "metadata": {
    "tags": []
   },
   "outputs": [
    {
     "output_type": "stream",
     "name": "stdout",
     "text": "[57.0, 58.2, 50.6, 27.2]\n"
    }
   ],
   "source": [
    "\n",
    "numbers = [\n",
    "              [34, 63, 88, 71, 29],\n",
    "              [90, 78, 51, 27, 45],\n",
    "              [63, 37, 85, 46, 22],\n",
    "              [51, 22, 34, 11, 18]\n",
    "           ]\n",
    "           \n",
    "averages = list(map(lambda x: sum(x)/len(x), numbers))\n",
    "print(averages)"
   ]
  },
  {
   "cell_type": "markdown",
   "metadata": {},
   "source": [
    "## Lab 5. Lambda Filter"
   ]
  },
  {
   "cell_type": "code",
   "execution_count": 30,
   "metadata": {
    "tags": []
   },
   "outputs": [
    {
     "output_type": "stream",
     "name": "stdout",
     "text": "['Chicago', 'Denver', 'Boston']\n"
    }
   ],
   "source": [
    "\n",
    "cities = [\"New York City\", \"Los Angeles\", \"Chicago\", \"Mountain View\", \"Denver\", \"Boston\"]\n",
    "\n",
    "short_cities = list(filter(lambda x: len(x) < 10, cities))\n",
    "print(short_cities)"
   ]
  },
  {
   "cell_type": "markdown",
   "metadata": {},
   "source": [
    "# Scripting"
   ]
  },
  {
   "cell_type": "markdown",
   "metadata": {},
   "source": [
    "## Lab 1. Cast List"
   ]
  },
  {
   "cell_type": "code",
   "execution_count": 31,
   "metadata": {
    "tags": []
   },
   "outputs": [
    {
     "output_type": "stream",
     "name": "stdout",
     "text": "Graham Chapman\nEric Idle\nTerry Jones\nMichael Palin\nTerry Gilliam\nJohn Cleese\nCarol Cleveland\nIan Davidson\nJohn Hughman\nThe Fred Tomlinson Singers\nConnie Booth\nBob Raymond\nLyn Ashley\nRita Davies\nStanley Mason\nDavid Ballantyne\nDonna Reading\nPeter Brett\nMaureen Flanagan\nKatya Wyeth\nFrank Lester\nNeil Innes\nDick Vosburgh\nSandra Richards\nJulia Breck\nNicki Howorth\nJimmy Hill\nBarry Cryer\nJeannette Wild\nMarjorie Wilde\nMarie Anderson\nCaron Gardner\nNosher Powell\nCarolae Donoghue\nVincent Wong\nHelena Clayton\nNigel Jones\nRoy Gunson\nDaphne Davey\nStenson Falke\nAlexander Curry\nFrank Williams\nRalph Wood\nRosalind Bailey\nMarion Mould\nSheila Sands\nRichard Baker\nDouglas Adams\nEwa Aulin\nReginald Bosanquet\nBarbara Lindley\nRoy Brent\nJonas Card\nTony Christopher\nBeulah Hughes\nPeter Kodak\nLulu\nJay Neill\nGraham Skidmore\nRingo Starr\nFred Tomlinson\nDavid Hamilton\nSuzy Mandel\nPeter Woods\n"
    }
   ],
   "source": [
    "def create_cast_list(filename):\n",
    "    cast_list = []\n",
    "    with open(filename, \"r\") as file:\n",
    "        data = file.readlines()\n",
    "    \n",
    "    for i in data:\n",
    "        cast_list.append(i.split(\",\")[0])\n",
    "\n",
    "    return cast_list\n",
    "\n",
    "cast_list = create_cast_list('flying_circus_cast.txt')\n",
    "for actor in cast_list:\n",
    "    print(actor)"
   ]
  },
  {
   "cell_type": "markdown",
   "metadata": {},
   "source": [
    "## Lab 2. Exp Quiz"
   ]
  },
  {
   "cell_type": "code",
   "execution_count": 32,
   "metadata": {},
   "outputs": [
    {
     "output_type": "execute_result",
     "data": {
      "text/plain": "20.085536923187668"
     },
     "metadata": {},
     "execution_count": 32
    }
   ],
   "source": [
    "import math\n",
    "\n",
    "math.exp(3)"
   ]
  },
  {
   "cell_type": "markdown",
   "metadata": {},
   "source": [
    "## Lab 3.   Handling Errors"
   ]
  },
  {
   "cell_type": "code",
   "execution_count": 33,
   "metadata": {
    "tags": []
   },
   "outputs": [
    {
     "output_type": "stream",
     "name": "stdout",
     "text": "\nLet's party! We'll have 20 people attending, they'll each get to eat 5 cookies, and we'll have 0 left over.\n"
    }
   ],
   "source": [
    "\n",
    "def party_planner(cookies, people):\n",
    "    leftovers = None\n",
    "    num_each = None\n",
    "    \n",
    "    num_each = cookies // people\n",
    "    leftovers = cookies % people\n",
    "    \n",
    "    return num_each, leftovers\n",
    "\n",
    "\n",
    "# The main code block is below; do not edit this\n",
    "lets_party = 'y'\n",
    "while lets_party == 'y':\n",
    "\n",
    "    cookies = int(input(\"How many cookies are you baking? \"))\n",
    "    people = int(input(\"How many people are attending? \"))\n",
    "\n",
    "    try:\n",
    "        cookies_each, leftovers = party_planner(cookies, people)\n",
    "\n",
    "        if cookies_each:  # if cookies_each is not None\n",
    "            message = \"\\nLet's party! We'll have {} people attending, they'll each get to eat {} cookies, and we'll have {} left over.\"\n",
    "            print(message.format(people, cookies_each, leftovers))\n",
    "        lets_party = input(\"\\nWould you like to party more? (y or n) \")\n",
    "    except ZeroDivisionError:\n",
    "        print(\"for it to be a party, they have to be at least 1 person, try again\")\n"
   ]
  },
  {
   "cell_type": "markdown",
   "metadata": {},
   "source": [
    "## Lab 4. Input"
   ]
  },
  {
   "cell_type": "code",
   "execution_count": 34,
   "metadata": {
    "tags": []
   },
   "outputs": [
    {
     "output_type": "stream",
     "name": "stdout",
     "text": "Hi james,\n\nThis is a reminder that you have 2 assignments left to\nsubmit before you can graduate. You're current grade is 25 and can increase\nto 100 if you submit all assignments before the due date.\n\nHi anna,\n\nThis is a reminder that you have 3 assignments left to\nsubmit before you can graduate. You're current grade is 53 and can increase\nto 100 if you submit all assignments before the due date.\n\nHi mark,\n\nThis is a reminder that you have 5 assignments left to\nsubmit before you can graduate. You're current grade is 67 and can increase\nto 100 if you submit all assignments before the due date.\n\n"
    }
   ],
   "source": [
    "#Write a script that does the following:\n",
    "\n",
    "#Ask for user input 3 times. Once for a list of names, once for a list of missing assignment counts, and once for a list of grades. Use this input to create lists for names, assignments, and grades.\n",
    "#Use a loop to print the message for each student with the correct values. The potential grade is simply the current grade added to two times the number of missing assignments.\n",
    "#Template code for your script:\n",
    "names = list(input(\"please enter the names of the students seperated by comas: \").split(\",\"))\n",
    "assignments = list(input(\"please enter the assignments of the students seperated by comas: \").split(\",\"))\n",
    "grades = list(input(\"please enter the grades of the students seperated by comas: \").split(\",\"))\n",
    "\n",
    "if len(names) == len(assignments) == len(grades):\n",
    "    for name, assignment, grade in zip(names, assignments, grades):\n",
    "        message = f\"Hi {name.strip()},\\n\\nThis is a reminder that you have {assignment.strip()} assignments left to\\nsubmit before you can graduate. You're current grade is {grade.strip()} and can increase\\nto {100} if you submit all assignments before the due date.\\n\"\n",
    "        print(message)\n",
    "else:\n",
    "    print(\"there have to be an equal number of names, assigments and grades\")\n"
   ]
  },
  {
   "cell_type": "markdown",
   "metadata": {},
   "source": [
    "## Lab 5. Match Flower Name"
   ]
  },
  {
   "cell_type": "code",
   "execution_count": 35,
   "metadata": {
    "tags": []
   },
   "outputs": [
    {
     "output_type": "stream",
     "name": "stdout",
     "text": "Unique flower name with the first letter: Jamesia americana\n"
    }
   ],
   "source": [
    "def read_flower_names(filename) -> dict:\n",
    "    name_dict = {}\n",
    "\n",
    "    with open(filename, \"r\") as file:\n",
    "        data = file.readlines()\n",
    "    for item in data:\n",
    "        x = item.split(\":\")\n",
    "        name_dict[x[0].strip()] = x[1].strip()\n",
    "    return name_dict\n",
    "\n",
    "\n",
    "flower_names = read_flower_names(\"flowers.txt\")\n",
    "f_name = input(\"Enter your First and Last name only: \").split()[0]\n",
    "unique_flower = flower_names.get(f_name[0].upper())\n",
    "print(f\"Unique flower name with the first letter: {unique_flower}\")"
   ]
  },
  {
   "cell_type": "markdown",
   "metadata": {},
   "source": [
    "## Lab 6. Password Generator"
   ]
  },
  {
   "cell_type": "code",
   "execution_count": 36,
   "metadata": {
    "tags": []
   },
   "outputs": [
    {
     "output_type": "stream",
     "name": "stdout",
     "text": "alicealicebook\n"
    }
   ],
   "source": [
    "import random\n",
    "\n",
    "word_file = \"words.txt\"\n",
    "word_list = []\n",
    "\n",
    "#fill up the word_list\n",
    "with open(word_file,'r') as words:\n",
    "\tfor line in words:\n",
    "\t\t# remove white space and make everything lowercase\n",
    "\t\tword = line.strip().lower()\n",
    "\t\t# don't include words that are too long or too short\n",
    "\t\tif 3 < len(word) < 8:\n",
    "\t\t\tword_list.append(word)\n",
    "\n",
    "def generate_password()->str:\n",
    "    password = random.choices(word_list, k=3)\n",
    "    return \"\".join(password)\n",
    "\n",
    "\n",
    "\n",
    "# test your function\n",
    "print(generate_password())"
   ]
  },
  {
   "cell_type": "markdown",
   "metadata": {},
   "source": [
    "## Lab 7. User Input"
   ]
  },
  {
   "cell_type": "code",
   "execution_count": 37,
   "metadata": {
    "tags": []
   },
   "outputs": [
    {
     "output_type": "stream",
     "name": "stdout",
     "text": "user_list: [12, 32, 35, 12, 34, 32, 34, 55, 4, 33]\nThe sum of the even numbers in user_list is: 160.\n"
    }
   ],
   "source": [
    "# initiate empty list to hold user input and sum value of zero\n",
    "user_list = []\n",
    "list_sum = 0\n",
    "\n",
    "# seek user input for ten numbers \n",
    "try:\n",
    "    for i in range(10):\n",
    "        userInput = int(input(\"Enter any 2-digit number: \"))\n",
    "        \n",
    "    # check to see if number is even and if yes, add to list_sum\n",
    "    # print incorrect value warning  when ValueError exception occurs\n",
    "        number = userInput\n",
    "        user_list.append(number)\n",
    "        if number % 2 == 0:\n",
    "            list_sum += number\n",
    "    print(\"user_list: {}\".format(user_list))\n",
    "    print(\"The sum of the even numbers in user_list is: {}.\".format(list_sum))\n",
    "except ValueError:\n",
    "    print(\"the input has to be a valid number\")\n",
    "\n"
   ]
  }
 ]
}